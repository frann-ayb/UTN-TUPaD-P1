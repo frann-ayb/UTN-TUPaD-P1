{
 "cells": [
  {
   "cell_type": "markdown",
   "id": "8d9dae70",
   "metadata": {},
   "source": [
    "1) Dado el diccionario precios_frutas\n",
    "precios_frutas = {'Banana': 1200, 'Ananá': 2500, 'Melón': 3000, 'Uva':\n",
    "1450}\n",
    "Añadir las siguientes frutas con sus respectivos precios:\n",
    "● Naranja = 1200\n",
    "● Manzana = 1500\n",
    "● Pera = 2300"
   ]
  },
  {
   "cell_type": "code",
   "execution_count": 1,
   "id": "a1538fb9",
   "metadata": {},
   "outputs": [
    {
     "name": "stdout",
     "output_type": "stream",
     "text": [
      "{'Banana': 1200, 'Ananá': 2500, 'Melón': 3000, 'Uva': 1450, 'naranja': 1200, 'manzana': 1500, 'pera': 2300}\n"
     ]
    }
   ],
   "source": [
    "precios_frutas = {'Banana': 1200, 'Ananá': 2500, 'Melón': 3000, 'Uva': 1450}\n",
    "precios_frutas['naranja'] = 1200\n",
    "precios_frutas['manzana'] = 1500\n",
    "precios_frutas['pera'] = 2300\n",
    "print(precios_frutas)"
   ]
  },
  {
   "cell_type": "markdown",
   "id": "f089d0bf",
   "metadata": {},
   "source": [
    "2) Siguiendo con el diccionario precios_frutas que resulta luego de ejecutar el código\n",
    "desarrollado en el punto anterior, actualizar los precios de las siguientes frutas:\n",
    "● Banana = 1330\n",
    "● Manzana = 1700\n",
    "● Melón = 2800\n"
   ]
  },
  {
   "cell_type": "code",
   "execution_count": 2,
   "id": "53a7d102",
   "metadata": {},
   "outputs": [
    {
     "name": "stdout",
     "output_type": "stream",
     "text": [
      "{'Banana': 1200, 'Ananá': 2500, 'Melón': 3000, 'Uva': 1450, 'naranja': 1200, 'manzana': 1500, 'pera': 2300}\n",
      "{'Banana': 1330, 'Ananá': 2500, 'Melón': 2800, 'Uva': 1450, 'naranja': 1200, 'manzana': 1700, 'pera': 2300}\n"
     ]
    }
   ],
   "source": [
    "precios_frutas = {'Banana': 1200, 'Ananá': 2500, 'Melón': 3000, 'Uva': 1450}\n",
    "precios_frutas['naranja'] = 1200\n",
    "precios_frutas['manzana'] = 1500\n",
    "precios_frutas['pera'] = 2300\n",
    "print(precios_frutas)\n",
    "\n",
    "precios_frutas['Banana'] = 1330\n",
    "precios_frutas['manzana'] = 1700\n",
    "precios_frutas['Melón'] = 2800\n",
    "print(precios_frutas)\n"
   ]
  },
  {
   "cell_type": "markdown",
   "id": "a4e530c1",
   "metadata": {},
   "source": [
    "3) Siguiendo con el diccionario precios_frutas que resulta luego de ejecutar el código\n",
    "desarrollado en el punto anterior, crear una lista que contenga únicamente las frutas sin los\n",
    "precios.\n"
   ]
  },
  {
   "cell_type": "code",
   "execution_count": 3,
   "id": "2eb31db8",
   "metadata": {},
   "outputs": [
    {
     "name": "stdout",
     "output_type": "stream",
     "text": [
      "{'Banana': 1200, 'Ananá': 2500, 'Melón': 3000, 'Uva': 1450, 'naranja': 1200, 'manzana': 1500, 'pera': 2300}\n",
      "{'Banana': 1330, 'Ananá': 2500, 'Melón': 2800, 'Uva': 1450, 'naranja': 1200, 'manzana': 1700, 'pera': 2300}\n",
      "dict_keys(['Banana', 'Ananá', 'Melón', 'Uva', 'naranja', 'manzana', 'pera'])\n"
     ]
    }
   ],
   "source": [
    "precios_frutas = {'Banana': 1200, 'Ananá': 2500, 'Melón': 3000, 'Uva': 1450}\n",
    "precios_frutas['naranja'] = 1200\n",
    "precios_frutas['manzana'] = 1500\n",
    "precios_frutas['pera'] = 2300\n",
    "print(precios_frutas)\n",
    "\n",
    "precios_frutas['Banana'] = 1330\n",
    "precios_frutas['manzana'] = 1700\n",
    "precios_frutas['Melón'] = 2800\n",
    "print(precios_frutas)\n",
    "\n",
    "lista_frutas = precios_frutas.keys()\n",
    "print(lista_frutas)"
   ]
  },
  {
   "cell_type": "markdown",
   "id": "8e86fbe3",
   "metadata": {},
   "source": [
    "4) Escribí un programa que permita almacenar y consultar números telefónicos.\n",
    "• Permití al usuario cargar 5 contactos con su nombre como clave y número como valor.\n",
    "• Luego, pedí un nombre y mostrale el número asociado, si existe."
   ]
  },
  {
   "cell_type": "code",
   "execution_count": 4,
   "id": "580c92e0",
   "metadata": {},
   "outputs": [
    {
     "name": "stdout",
     "output_type": "stream",
     "text": [
      "22999\n"
     ]
    }
   ],
   "source": [
    "numeros_tel = {}\n",
    "for i in range(5):\n",
    "    nombre = input(\"ingrese el nombre de contacto:\" )\n",
    "    numero = input(\"ingrese el numero de telefono: \")\n",
    "    numeros_tel[nombre] = numero\n",
    "nombre_cont = str(input(\"ingrese el nombre a buscar: \"))\n",
    "if nombre_cont in numeros_tel:\n",
    "    print(numeros_tel[nombre_cont])\n",
    "else:\n",
    "    print(\"el contacto no existe...\")"
   ]
  },
  {
   "cell_type": "markdown",
   "id": "5bae5448",
   "metadata": {},
   "source": [
    "5) Solicita al usuario una frase e imprime:\n",
    "• Las palabras únicas (usando un set).\n",
    "• Un diccionario con la cantidad de veces que aparece cada palabra."
   ]
  },
  {
   "cell_type": "code",
   "execution_count": 11,
   "id": "ea49434a",
   "metadata": {},
   "outputs": [
    {
     "name": "stdout",
     "output_type": "stream",
     "text": [
      "lista de palabras unicas:{'saber', 'conocer', 'e', 'integrar'}\n",
      "frecuencia:{'saber': 1, 'conocer': 1, 'e': 1, 'integrar': 2}\n"
     ]
    }
   ],
   "source": [
    "frase = input(\"proporcione una frase: \")\n",
    "frase_lista = frase.split(\" \")\n",
    "mi_set = set(frase.split(\" \"))\n",
    "frecuencia={}\n",
    "for x in mi_set:\n",
    "    contar = 0\n",
    "    for n in frase_lista: \n",
    "        if n == x:\n",
    "            contar +=1\n",
    "    frecuencia[x]=contar\n",
    "print(f\"lista de palabras unicas:{mi_set}\")\n",
    "print(f\"frecuencia:{frecuencia}\")"
   ]
  }
 ],
 "metadata": {
  "kernelspec": {
   "display_name": "Python 3",
   "language": "python",
   "name": "python3"
  },
  "language_info": {
   "codemirror_mode": {
    "name": "ipython",
    "version": 3
   },
   "file_extension": ".py",
   "mimetype": "text/x-python",
   "name": "python",
   "nbconvert_exporter": "python",
   "pygments_lexer": "ipython3",
   "version": "3.12.5"
  }
 },
 "nbformat": 4,
 "nbformat_minor": 5
}
