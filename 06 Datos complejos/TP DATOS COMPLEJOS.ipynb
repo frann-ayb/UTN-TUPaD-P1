{
 "cells": [
  {
   "cell_type": "markdown",
   "id": "8d9dae70",
   "metadata": {},
   "source": [
    "1) Dado el diccionario precios_frutas\n",
    "precios_frutas = {'Banana': 1200, 'Ananá': 2500, 'Melón': 3000, 'Uva':\n",
    "1450}\n",
    "Añadir las siguientes frutas con sus respectivos precios:\n",
    "● Naranja = 1200\n",
    "● Manzana = 1500\n",
    "● Pera = 2300"
   ]
  },
  {
   "cell_type": "code",
   "execution_count": 1,
   "id": "a1538fb9",
   "metadata": {},
   "outputs": [
    {
     "name": "stdout",
     "output_type": "stream",
     "text": [
      "{'Banana': 1200, 'Ananá': 2500, 'Melón': 3000, 'Uva': 1450, 'naranja': 1200, 'manzana': 1500, 'pera': 2300}\n"
     ]
    }
   ],
   "source": [
    "precios_frutas = {'Banana': 1200, 'Ananá': 2500, 'Melón': 3000, 'Uva': 1450}\n",
    "precios_frutas['naranja'] = 1200\n",
    "precios_frutas['manzana'] = 1500\n",
    "precios_frutas['pera'] = 2300\n",
    "print(precios_frutas)"
   ]
  },
  {
   "cell_type": "markdown",
   "id": "f089d0bf",
   "metadata": {},
   "source": [
    "2) Siguiendo con el diccionario precios_frutas que resulta luego de ejecutar el código\n",
    "desarrollado en el punto anterior, actualizar los precios de las siguientes frutas:\n",
    "● Banana = 1330\n",
    "● Manzana = 1700\n",
    "● Melón = 2800\n"
   ]
  },
  {
   "cell_type": "code",
   "execution_count": 2,
   "id": "53a7d102",
   "metadata": {},
   "outputs": [
    {
     "name": "stdout",
     "output_type": "stream",
     "text": [
      "{'Banana': 1200, 'Ananá': 2500, 'Melón': 3000, 'Uva': 1450, 'naranja': 1200, 'manzana': 1500, 'pera': 2300}\n",
      "{'Banana': 1330, 'Ananá': 2500, 'Melón': 2800, 'Uva': 1450, 'naranja': 1200, 'manzana': 1700, 'pera': 2300}\n"
     ]
    }
   ],
   "source": [
    "precios_frutas = {'Banana': 1200, 'Ananá': 2500, 'Melón': 3000, 'Uva': 1450}\n",
    "precios_frutas['naranja'] = 1200\n",
    "precios_frutas['manzana'] = 1500\n",
    "precios_frutas['pera'] = 2300\n",
    "print(precios_frutas)\n",
    "\n",
    "precios_frutas['Banana'] = 1330\n",
    "precios_frutas['manzana'] = 1700\n",
    "precios_frutas['Melón'] = 2800\n",
    "print(precios_frutas)\n"
   ]
  },
  {
   "cell_type": "markdown",
   "id": "a4e530c1",
   "metadata": {},
   "source": [
    "3) Siguiendo con el diccionario precios_frutas que resulta luego de ejecutar el código\n",
    "desarrollado en el punto anterior, crear una lista que contenga únicamente las frutas sin los\n",
    "precios.\n"
   ]
  },
  {
   "cell_type": "code",
   "execution_count": 3,
   "id": "2eb31db8",
   "metadata": {},
   "outputs": [
    {
     "name": "stdout",
     "output_type": "stream",
     "text": [
      "{'Banana': 1200, 'Ananá': 2500, 'Melón': 3000, 'Uva': 1450, 'naranja': 1200, 'manzana': 1500, 'pera': 2300}\n",
      "{'Banana': 1330, 'Ananá': 2500, 'Melón': 2800, 'Uva': 1450, 'naranja': 1200, 'manzana': 1700, 'pera': 2300}\n",
      "dict_keys(['Banana', 'Ananá', 'Melón', 'Uva', 'naranja', 'manzana', 'pera'])\n"
     ]
    }
   ],
   "source": [
    "precios_frutas = {'Banana': 1200, 'Ananá': 2500, 'Melón': 3000, 'Uva': 1450}\n",
    "precios_frutas['naranja'] = 1200\n",
    "precios_frutas['manzana'] = 1500\n",
    "precios_frutas['pera'] = 2300\n",
    "print(precios_frutas)\n",
    "\n",
    "precios_frutas['Banana'] = 1330\n",
    "precios_frutas['manzana'] = 1700\n",
    "precios_frutas['Melón'] = 2800\n",
    "print(precios_frutas)\n",
    "\n",
    "lista_frutas = precios_frutas.keys()\n",
    "print(lista_frutas)"
   ]
  },
  {
   "cell_type": "markdown",
   "id": "8e86fbe3",
   "metadata": {},
   "source": [
    "4) Escribí un programa que permita almacenar y consultar números telefónicos.\n",
    "• Permití al usuario cargar 5 contactos con su nombre como clave y número como valor.\n",
    "• Luego, pedí un nombre y mostrale el número asociado, si existe."
   ]
  },
  {
   "cell_type": "code",
   "execution_count": 4,
   "id": "580c92e0",
   "metadata": {},
   "outputs": [
    {
     "name": "stdout",
     "output_type": "stream",
     "text": [
      "22999\n"
     ]
    }
   ],
   "source": [
    "numeros_tel = {}\n",
    "for i in range(5):\n",
    "    nombre = input(\"ingrese el nombre de contacto:\" )\n",
    "    numero = input(\"ingrese el numero de telefono: \")\n",
    "    numeros_tel[nombre] = numero\n",
    "nombre_cont = str(input(\"ingrese el nombre a buscar: \"))\n",
    "if nombre_cont in numeros_tel:\n",
    "    print(numeros_tel[nombre_cont])\n",
    "else:\n",
    "    print(\"el contacto no existe...\")"
   ]
  },
  {
   "cell_type": "markdown",
   "id": "5bae5448",
   "metadata": {},
   "source": [
    "5) Solicita al usuario una frase e imprime:\n",
    "• Las palabras únicas (usando un set).\n",
    "• Un diccionario con la cantidad de veces que aparece cada palabra."
   ]
  },
  {
   "cell_type": "code",
   "execution_count": 11,
   "id": "ea49434a",
   "metadata": {},
   "outputs": [
    {
     "name": "stdout",
     "output_type": "stream",
     "text": [
      "lista de palabras unicas:{'saber', 'conocer', 'e', 'integrar'}\n",
      "frecuencia:{'saber': 1, 'conocer': 1, 'e': 1, 'integrar': 2}\n"
     ]
    }
   ],
   "source": [
    "frase = input(\"proporcione una frase: \")\n",
    "frase_lista = frase.split(\" \")\n",
    "mi_set = set(frase.split(\" \"))\n",
    "frecuencia={}\n",
    "for x in mi_set:\n",
    "    contar = 0\n",
    "    for n in frase_lista: \n",
    "        if n == x:\n",
    "            contar +=1\n",
    "    frecuencia[x]=contar\n",
    "print(f\"lista de palabras unicas:{mi_set}\")\n",
    "print(f\"frecuencia:{frecuencia}\")"
   ]
  },
  {
   "cell_type": "markdown",
   "id": "492e0666",
   "metadata": {},
   "source": [
    "6) Permití ingresar los nombres de 3 alumnos, y para cada uno una tupla de 3 notas. \n",
    "Luego, mostrá el promedio de cada alumno. "
   ]
  },
  {
   "cell_type": "code",
   "execution_count": 10,
   "id": "60da4db2",
   "metadata": {},
   "outputs": [
    {
     "name": "stdout",
     "output_type": "stream",
     "text": [
      "['pedro', 'juan', 'diego']\n",
      "[(8, 8, 8), (7, 7, 7), (6, 6, 6)]\n",
      "{'pedro': 8.0, 'juan': 7.0, 'diego': 6.0}\n"
     ]
    }
   ],
   "source": [
    "alumnos = []\n",
    "for i in range(3):\n",
    "    nombre = input(\"proporcione su nombre: \")\n",
    "    alumnos.append(nombre)\n",
    "\n",
    "tuplas = []\n",
    "notas = {}\n",
    "\n",
    "for i in range(3):\n",
    "    dato1 = int(input(\"proporcione el primer dato de la tupla: \"))\n",
    "    dato2 = int(input(\"proporcione el segundo dato: \"))\n",
    "    dato3 = int(input(\"proporcione el tercer dato: \"))\n",
    "    tuplas.append((dato1, dato2, dato3))\n",
    "    suma = dato1 + dato2 + dato3\n",
    "    promedio = suma/3\n",
    "    notas[alumnos[i]] = promedio\n",
    "\n",
    "print(alumnos)\n",
    "print(tuplas)\n",
    "print(notas)\n",
    "\n",
    "\n",
    "\n"
   ]
  },
  {
   "cell_type": "markdown",
   "id": "d0519a0e",
   "metadata": {},
   "source": [
    "7) Dado dos sets de números, representando dos listas de estudiantes que aprobaron Parcial 1 \n",
    "y Parcial 2: \n",
    "• Mostrá los que aprobaron ambos parciales. \n",
    "• Mostrá los que aprobaron solo uno de los dos. \n",
    "• Mostrá la lista total de estudiantes que aprobaron al menos un parcial (sin repetir)."
   ]
  },
  {
   "cell_type": "code",
   "execution_count": 13,
   "id": "2487d582",
   "metadata": {},
   "outputs": [
    {
     "name": "stdout",
     "output_type": "stream",
     "text": [
      "Aprobaron ambos parciales: ['jose']\n",
      "Aprobaron solo uno de los parciales: ['gabriel', 'matias']\n",
      "Aprobaron al menos uno de los parciales: ['gabriel', 'jose', 'matias']\n"
     ]
    }
   ],
   "source": [
    "parcial_1 = {\"gabriel\": 7, \"jose\": 8, \"matias\": 9}\n",
    "parcial_2 = {\"gabriel\": 5, \"jose\": 8, \"matias\": 4}\n",
    "\n",
    "aprob_ambos = []\n",
    "aprob_solo_uno = []\n",
    "aprob_al_menos_uno = []\n",
    "\n",
    "for alumno in parcial_1:\n",
    "    nota1 = parcial_1[alumno]\n",
    "    nota2 = parcial_2[alumno]\n",
    "    \n",
    "    if nota1 >= 6 and nota2 >= 6:\n",
    "        aprob_ambos.append(alumno)\n",
    "    elif (nota1 >= 6) ^ (nota2 >= 6):  # XOR lógico\n",
    "        aprob_solo_uno.append(alumno)\n",
    "    \n",
    "    if nota1 >= 6 or nota2 >= 6:\n",
    "        aprob_al_menos_uno.append(alumno)\n",
    "\n",
    "print(\"Aprobaron ambos parciales:\", aprob_ambos)\n",
    "print(\"Aprobaron solo uno de los parciales:\", aprob_solo_uno)\n",
    "print(\"Aprobaron al menos uno de los parciales:\", aprob_al_menos_uno)\n"
   ]
  },
  {
   "cell_type": "markdown",
   "id": "0b260c16",
   "metadata": {},
   "source": [
    "8) Armá un diccionario donde las claves sean nombres de productos y los valores su stock. \n",
    "Permití al usuario: \n",
    "• Consultar el stock de un producto ingresado. \n",
    "• Agregar unidades al stock si el producto ya existe. \n",
    "• Agregar un nuevo producto si no existe."
   ]
  },
  {
   "cell_type": "code",
   "execution_count": null,
   "id": "617baf4f",
   "metadata": {},
   "outputs": [
    {
     "name": "stdout",
     "output_type": "stream",
     "text": [
      "\n",
      "1. Buscar productos\n",
      "2. Añadir o crear un producto nuevo\n",
      "3. Finalizar programa\n",
      "Se agregó/actualizó el producto 'naranja' con 20 unidades.\n",
      "\n",
      "1. Buscar productos\n",
      "2. Añadir o crear un producto nuevo\n",
      "3. Finalizar programa\n"
     ]
    },
    {
     "ename": "ValueError",
     "evalue": "invalid literal for int() with base 10: ''",
     "output_type": "error",
     "traceback": [
      "\u001b[31m---------------------------------------------------------------------------\u001b[39m",
      "\u001b[31mValueError\u001b[39m                                Traceback (most recent call last)",
      "\u001b[36mCell\u001b[39m\u001b[36m \u001b[39m\u001b[32mIn[17]\u001b[39m\u001b[32m, line 6\u001b[39m\n\u001b[32m      4\u001b[39m \u001b[38;5;28;01mwhile\u001b[39;00m estado_programa:\n\u001b[32m      5\u001b[39m     \u001b[38;5;28mprint\u001b[39m(\u001b[33m\"\u001b[39m\u001b[38;5;130;01m\\n\u001b[39;00m\u001b[33m1. Buscar productos\u001b[39m\u001b[38;5;130;01m\\n\u001b[39;00m\u001b[33m2. Añadir o crear un producto nuevo\u001b[39m\u001b[38;5;130;01m\\n\u001b[39;00m\u001b[33m3. Finalizar programa\u001b[39m\u001b[33m\"\u001b[39m)\n\u001b[32m----> \u001b[39m\u001b[32m6\u001b[39m     opcion = \u001b[38;5;28;43mint\u001b[39;49m\u001b[43m(\u001b[49m\u001b[38;5;28;43minput\u001b[39;49m\u001b[43m(\u001b[49m\u001b[33;43m\"\u001b[39;49m\u001b[33;43mProporcione una opción: \u001b[39;49m\u001b[33;43m\"\u001b[39;49m\u001b[43m)\u001b[49m\u001b[43m)\u001b[49m\n\u001b[32m      8\u001b[39m     \u001b[38;5;28;01mif\u001b[39;00m opcion == \u001b[32m1\u001b[39m:\n\u001b[32m      9\u001b[39m         buscar = \u001b[38;5;28minput\u001b[39m(\u001b[33m\"\u001b[39m\u001b[33mProporcione el nombre del producto: \u001b[39m\u001b[33m\"\u001b[39m)\n",
      "\u001b[31mValueError\u001b[39m: invalid literal for int() with base 10: ''"
     ]
    }
   ],
   "source": [
    "stock = {\"celular\": 10, \"televisor\": 50, \"microondas\": 15}\n",
    "estado_programa = True\n",
    "\n",
    "while estado_programa:\n",
    "    print(\"\\n1. Buscar productos\\n2. Añadir o crear un producto nuevo\\n3. Finalizar programa\")\n",
    "    opcion = int(input(\"proporcione una opcion\"))\n",
    "\n",
    "    if opcion == 1:\n",
    "        buscar = input(\"Proporcione el nombre del producto: \")\n",
    "        if buscar in stock:\n",
    "            print(f\"Unidades disponibles: {stock[buscar]}\")\n",
    "        else:\n",
    "            print(\"El producto no existe en el stock.\")\n",
    "\n",
    "    elif opcion == 2:\n",
    "        buscar = input(\"Proporcione el nombre del producto: \")\n",
    "        agregar = int(input(\"Proporcione las unidades a añadir: \"))\n",
    "        if buscar in stock:\n",
    "            stock[buscar] += agregar\n",
    "        else:\n",
    "            stock[buscar] = agregar\n",
    "        print(f\"Se agregó/actualizó el producto '{buscar}' con {stock[buscar]} unidades.\")\n",
    "\n",
    "    elif opcion == 3:\n",
    "        estado_programa = False\n",
    "        print(\"Programa finalizado.\")\n",
    "\n",
    "    else:\n",
    "        print(\"Elija una opción correcta...\")\n"
   ]
  },
  {
   "cell_type": "markdown",
   "id": "cf3fda32",
   "metadata": {},
   "source": [
    "9) Creá una agenda donde las claves sean tuplas de (día, hora) y los valores sean eventos.\n",
    "Permití consultar qué actividad hay en cierto día y hora."
   ]
  },
  {
   "cell_type": "code",
   "execution_count": 18,
   "id": "aec269cf",
   "metadata": {},
   "outputs": [
    {
     "name": "stdout",
     "output_type": "stream",
     "text": [
      "No hay ninguna actividad programada en ese horario.\n"
     ]
    }
   ],
   "source": [
    "agenda = {(\"lunes\", \"9:00\"): \"Reunión con el equipo\",(\"martes\", \"14:00\"): \"Clase de inglés\",(\"miércoles\", \"18:00\"): \"Gimnasio\",}\n",
    "\n",
    "\n",
    "dia = input(\"Ingresá el día: \").lower()\n",
    "hora = input(\"Ingresá la hora (por ejemplo 14:00): \")\n",
    "\n",
    "clave = (dia, hora)\n",
    "if clave in agenda:\n",
    "    print(f\"En {dia} a las {hora} tenés: {agenda[clave]}\")\n",
    "else:\n",
    "    print(\"No hay ninguna actividad programada en ese horario.\")\n"
   ]
  },
  {
   "cell_type": "markdown",
   "id": "9cc8e43f",
   "metadata": {},
   "source": [
    "10) Dado un diccionario que mapea nombres de países con sus capitales, construí un nuevo \n",
    "diccionario donde: \n",
    "• Las capitales sean las claves. \n",
    "• Los países sean los valores."
   ]
  },
  {
   "cell_type": "code",
   "execution_count": 19,
   "id": "5fe7a0cc",
   "metadata": {},
   "outputs": [
    {
     "name": "stdout",
     "output_type": "stream",
     "text": [
      "Diccionario invertido (capital -> país):\n",
      "{'Buenos Aires': 'Argentina', 'Brasilia': 'Brasil', 'París': 'Francia', 'Berlín': 'Alemania', 'Tokio': 'Japón'}\n"
     ]
    }
   ],
   "source": [
    "paises_a_capitales = {\n",
    "    \"Argentina\": \"Buenos Aires\",\n",
    "    \"Brasil\": \"Brasilia\",\n",
    "    \"Francia\": \"París\",\n",
    "    \"Alemania\": \"Berlín\",\n",
    "    \"Japón\": \"Tokio\"\n",
    "}\n",
    "\n",
    "\n",
    "capitales_a_paises = {}\n",
    "\n",
    "for pais, capital in paises_a_capitales.items():\n",
    "    capitales_a_paises[capital] = pais\n",
    "\n",
    "\n",
    "print(\"Diccionario invertido (capital -> país):\")\n",
    "print(capitales_a_paises)\n"
   ]
  }
 ],
 "metadata": {
  "kernelspec": {
   "display_name": "Python 3",
   "language": "python",
   "name": "python3"
  },
  "language_info": {
   "codemirror_mode": {
    "name": "ipython",
    "version": 3
   },
   "file_extension": ".py",
   "mimetype": "text/x-python",
   "name": "python",
   "nbconvert_exporter": "python",
   "pygments_lexer": "ipython3",
   "version": "3.12.5"
  }
 },
 "nbformat": 4,
 "nbformat_minor": 5
}
