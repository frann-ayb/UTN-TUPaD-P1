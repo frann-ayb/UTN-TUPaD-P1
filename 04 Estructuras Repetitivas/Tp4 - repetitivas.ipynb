{
 "cells": [
  {
   "cell_type": "markdown",
   "id": "33aaa078",
   "metadata": {},
   "source": [
    "Ejercicio 1:"
   ]
  },
  {
   "cell_type": "code",
   "execution_count": 4,
   "id": "2af8dfc7",
   "metadata": {},
   "outputs": [
    {
     "name": "stdout",
     "output_type": "stream",
     "text": [
      "0\n",
      "1\n",
      "2\n",
      "3\n",
      "4\n",
      "5\n",
      "6\n",
      "7\n",
      "8\n",
      "9\n",
      "10\n",
      "11\n",
      "12\n",
      "13\n",
      "14\n",
      "15\n",
      "16\n",
      "17\n",
      "18\n",
      "19\n",
      "20\n",
      "21\n",
      "22\n",
      "23\n",
      "24\n",
      "25\n",
      "26\n",
      "27\n",
      "28\n",
      "29\n",
      "30\n",
      "31\n",
      "32\n",
      "33\n",
      "34\n",
      "35\n",
      "36\n",
      "37\n",
      "38\n",
      "39\n",
      "40\n",
      "41\n",
      "42\n",
      "43\n",
      "44\n",
      "45\n",
      "46\n",
      "47\n",
      "48\n",
      "49\n",
      "50\n",
      "51\n",
      "52\n",
      "53\n",
      "54\n",
      "55\n",
      "56\n",
      "57\n",
      "58\n",
      "59\n",
      "60\n",
      "61\n",
      "62\n",
      "63\n",
      "64\n",
      "65\n",
      "66\n",
      "67\n",
      "68\n",
      "69\n",
      "70\n",
      "71\n",
      "72\n",
      "73\n",
      "74\n",
      "75\n",
      "76\n",
      "77\n",
      "78\n",
      "79\n",
      "80\n",
      "81\n",
      "82\n",
      "83\n",
      "84\n",
      "85\n",
      "86\n",
      "87\n",
      "88\n",
      "89\n",
      "90\n",
      "91\n",
      "92\n",
      "93\n",
      "94\n",
      "95\n",
      "96\n",
      "97\n",
      "98\n",
      "99\n",
      "100\n"
     ]
    }
   ],
   "source": [
    "for i in range(0, 101): ##iterar i desde 0 hasta 100\n",
    "    print(i)    ##imprimir i  "
   ]
  },
  {
   "cell_type": "markdown",
   "id": "f734ea63",
   "metadata": {},
   "source": [
    "Ejercicio 2:"
   ]
  },
  {
   "cell_type": "code",
   "execution_count": null,
   "id": "5f3b0897",
   "metadata": {},
   "outputs": [
    {
     "name": "stdout",
     "output_type": "stream",
     "text": [
      "la cantidad de digitos del numero proporcionado es de: 4\n"
     ]
    }
   ],
   "source": [
    "num = int(input(\"proporcione un numero entero\")) #dato ingresado por el usuario, forzado a ser entero.\n",
    "num = str(num)  #se transforma en string para ser procesado por la funcion len\n",
    "cantidad_digitos = len(num) #la funcion len cuenta la cantidad de digitos del numero proporcionado\n",
    "print(f\"la cantidad de digitos del numero proporcionado es de: {cantidad_digitos}\") #se imprime el resultado final"
   ]
  },
  {
   "cell_type": "markdown",
   "id": "31674f25",
   "metadata": {},
   "source": [
    "Ejercicio 3:"
   ]
  },
  {
   "cell_type": "code",
   "execution_count": 19,
   "id": "85a4187b",
   "metadata": {},
   "outputs": [
    {
     "name": "stdout",
     "output_type": "stream",
     "text": [
      "sumatoria 9\n"
     ]
    }
   ],
   "source": [
    "inicio = int(input(\"proporcione el numero entero inicial: \"))\n",
    "fin = int(input(\"proporcione el numero entero final: \"))\n",
    "sumatoria = 0\n",
    "if inicio < fin :\n",
    "    for i in range(inicio + 1, fin):\n",
    "        sumatoria = sumatoria + i\n",
    "else:\n",
    "    for i in range(inicio - 1, fin, -1):\n",
    "        sumatoria = sumatoria + i\n",
    "print(f\"sumatoria {sumatoria}\")"
   ]
  },
  {
   "cell_type": "markdown",
   "id": "583eab02",
   "metadata": {},
   "source": [
    "Ejercicio 4:"
   ]
  },
  {
   "cell_type": "code",
   "execution_count": 33,
   "id": "17243bc4",
   "metadata": {},
   "outputs": [
    {
     "name": "stdout",
     "output_type": "stream",
     "text": [
      "suma total = 0\n"
     ]
    }
   ],
   "source": [
    "suma = 0\n",
    "num_uno = int(input(\"proporcione un numero entero para sumar (ingrese 0 para terminar)\"))\n",
    "while num_uno != 0:\n",
    "    suma = num_uno + suma\n",
    "    num_uno = int(input(\"proporcione un numero entero para sumar (ingrese 0 para terminar)\"))\n",
    "print(f\"suma total = {suma}\")"
   ]
  },
  {
   "cell_type": "markdown",
   "id": "dd7b4504",
   "metadata": {},
   "source": [
    "Ejercicio 5:"
   ]
  },
  {
   "cell_type": "code",
   "execution_count": 71,
   "id": "5e9a41aa",
   "metadata": {},
   "outputs": [
    {
     "name": "stdout",
     "output_type": "stream",
     "text": [
      "numero correcto = 4\n",
      "cantidad de intentos = 4\n"
     ]
    }
   ],
   "source": [
    "import random\n",
    "numero_adivinar = random.randint(0,9)\n",
    "cant_intentos = 0\n",
    "adivinar = int(input(\"Adivine el numero(0 a 9): \"))\n",
    "while adivinar != numero_adivinar:\n",
    "    cant_intentos = cant_intentos + 1\n",
    "    adivinar = int(input(\"Adivine el numero(0 a 9): \"))\n",
    "print(f\"numero correcto = {numero_adivinar}\")\n",
    "print(f\"cantidad de intentos = {cant_intentos}\")"
   ]
  },
  {
   "cell_type": "markdown",
   "id": "ba395a87",
   "metadata": {},
   "source": [
    "Ejercicio 6:"
   ]
  },
  {
   "cell_type": "code",
   "execution_count": 73,
   "id": "513a4126",
   "metadata": {},
   "outputs": [
    {
     "name": "stdout",
     "output_type": "stream",
     "text": [
      "98\n",
      "96\n",
      "94\n",
      "92\n",
      "90\n",
      "88\n",
      "86\n",
      "84\n",
      "82\n",
      "80\n",
      "78\n",
      "76\n",
      "74\n",
      "72\n",
      "70\n",
      "68\n",
      "66\n",
      "64\n",
      "62\n",
      "60\n",
      "58\n",
      "56\n",
      "54\n",
      "52\n",
      "50\n",
      "48\n",
      "46\n",
      "44\n",
      "42\n",
      "40\n",
      "38\n",
      "36\n",
      "34\n",
      "32\n",
      "30\n",
      "28\n",
      "26\n",
      "24\n",
      "22\n",
      "20\n",
      "18\n",
      "16\n",
      "14\n",
      "12\n",
      "10\n",
      "8\n",
      "6\n",
      "4\n",
      "2\n"
     ]
    }
   ],
   "source": [
    "for i in range(99, 0, -1):\n",
    "    if i % 2 == 0:\n",
    "        print(i)"
   ]
  },
  {
   "cell_type": "markdown",
   "id": "ffb6072f",
   "metadata": {},
   "source": [
    "Ejercicio 7:"
   ]
  },
  {
   "cell_type": "code",
   "execution_count": 78,
   "id": "cfbb0511",
   "metadata": {},
   "outputs": [
    {
     "name": "stdout",
     "output_type": "stream",
     "text": [
      "la suma de los numeros entre 0 y -3 es: -3\n"
     ]
    }
   ],
   "source": [
    "final_rango = int(input(\"Proporcione un valor final para el rango: \"))\n",
    "sumar = 0\n",
    "if 0 < final_rango:\n",
    "    for i in range(0, final_rango):\n",
    "        sumar = sumar + i\n",
    "else:\n",
    "    for i in range(0, final_rango, -1):\n",
    "        sumar = sumar + i\n",
    "print(f\"la suma de los numeros entre 0 y {final_rango} es: {sumar}\")"
   ]
  },
  {
   "cell_type": "markdown",
   "id": "17c6dbda",
   "metadata": {},
   "source": [
    "Ejercicio 8:"
   ]
  },
  {
   "cell_type": "code",
   "execution_count": null,
   "id": "f99d95bf",
   "metadata": {},
   "outputs": [
    {
     "name": "stdout",
     "output_type": "stream",
     "text": [
      "numero pares: 0\n",
      "numero impares: 0\n",
      "numero positivos: 0\n",
      "numero negativos: 0\n"
     ]
    }
   ],
   "source": [
    "pares = 0\n",
    "impares = 0\n",
    "negativos = 0\n",
    "positivos = 0\n",
    "k = int(input(\"proporcione un numero:\"))\n",
    "for i in range(0, 100):\n",
    "    if k == 0:\n",
    "        pass\n",
    "    elif k % 2 == 0:\n",
    "        pares = pares + 1\n",
    "    else:\n",
    "        impares = impares + 1\n",
    "    \n",
    "    if k == 0:\n",
    "        pass\n",
    "    elif k < 0:\n",
    "        negativos = negativos + 1\n",
    "    else:\n",
    "        positivos = positivos + 1\n",
    "    k = int(input(\"proporcione un numero:\"))\n",
    "\n",
    "print(f\"numero pares: {pares}\")\n",
    "print(f\"numero impares: {impares}\")\n",
    "print(f\"numero positivos: {positivos}\")\n",
    "print(f\"numero negativos: {negativos}\")"
   ]
  },
  {
   "cell_type": "markdown",
   "id": "8b7e54e5",
   "metadata": {},
   "source": [
    "Ejercicio 9:"
   ]
  },
  {
   "cell_type": "code",
   "execution_count": null,
   "id": "26e74188",
   "metadata": {},
   "outputs": [
    {
     "name": "stdout",
     "output_type": "stream",
     "text": [
      "el promedio de los 10 numeros es de: 40147.3\n"
     ]
    }
   ],
   "source": [
    "cant_valores = int(100)\n",
    "sum = int(0)\n",
    "for i in range (0, cant_valores):\n",
    "    nume = int(input(\"proporcione un numero\"))\n",
    "    sum = sum + nume\n",
    "print(f\"el promedio de los {cant_valores} numeros es de: {sum/cant_valores}\")"
   ]
  },
  {
   "cell_type": "markdown",
   "id": "aec2bca2",
   "metadata": {},
   "source": [
    "Ejercicio 10:"
   ]
  },
  {
   "cell_type": "code",
   "execution_count": 113,
   "id": "23fc0795",
   "metadata": {},
   "outputs": [
    {
     "name": "stdout",
     "output_type": "stream",
     "text": [
      "El número invertido es: -1321\n"
     ]
    }
   ],
   "source": [
    "numero = 0\n",
    "numero_invertido = 0\n",
    "numero = input(\"Ingrese un número: \")\n",
    "if int(numero) > 0:\n",
    "    numero_invertido = numero[::-1]\n",
    "elif int(numero) < 0 :\n",
    "    numero_invertido = '-' + numero[:0:-1]\n",
    "else:\n",
    "    pass\n",
    "print(f\"El número invertido es: {numero_invertido}\")"
   ]
  },
  {
   "cell_type": "markdown",
   "id": "4ae3d66c",
   "metadata": {},
   "source": [
    "Estudiante: Herrera Gonzalez Franco Esteban"
   ]
  }
 ],
 "metadata": {
  "kernelspec": {
   "display_name": "Python 3",
   "language": "python",
   "name": "python3"
  },
  "language_info": {
   "codemirror_mode": {
    "name": "ipython",
    "version": 3
   },
   "file_extension": ".py",
   "mimetype": "text/x-python",
   "name": "python",
   "nbconvert_exporter": "python",
   "pygments_lexer": "ipython3",
   "version": "3.12.5"
  }
 },
 "nbformat": 4,
 "nbformat_minor": 5
}
